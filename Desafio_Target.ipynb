{
 "cells": [
  {
   "cell_type": "markdown",
   "metadata": {},
   "source": [
    "# Resolução das questões contidas no Desafio Target"
   ]
  },
  {
   "cell_type": "markdown",
   "metadata": {},
   "source": [
    "**Questão 1:** Ver arquivo Fibonacci.py"
   ]
  },
  {
   "cell_type": "markdown",
   "metadata": {},
   "source": [
    "**Questão 2:** Ver arquivo Contador_A.py"
   ]
  },
  {
   "cell_type": "markdown",
   "metadata": {},
   "source": [
    "**Questão 3:** O valor da variável SOMA é 77.\n"
   ]
  },
  {
   "cell_type": "markdown",
   "metadata": {},
   "source": [
    "**Questão 4:** \n",
    "- a) 1, 3, 5, 7, **9** , pois se trata da sequência de números ímpares\n",
    "\n",
    "- b) 2, 4, 8, 16, 32, 64, **128**, pois se trata da sequência de 2<sup>n</sup>, de n=1 a n=7\n",
    "\n",
    "- c) 0, 1, 4, 9, 16, 25, 36, **49**, pois se trata da sequência de n<sup>2</sup>, de n=0 a n=7  \n",
    "\n",
    "- d) 4, 16, 36, 64, **100**, pois se trata de n<sup>2</sup>, onde n são os números pares maiores que 0.\n",
    "\n",
    "- e) 1, 1, 2, 3, 5, 8,**13**, pois é a sequência de Fibonacci.\n",
    "\n",
    "- f) 2,10, 12, 16, 17, 18, 19, **200** , pois são os números positivos iniciados com a letra D."
   ]
  },
  {
   "cell_type": "markdown",
   "metadata": {},
   "source": [
    "**Questão 5:** O primeiro passo seria deixar um interruptor desligado, um sempre ligado e o terceiro inicialmente ligado e, após determinado tempo, desligá-lo. Dessa forma, ao ir pela primeira vez em uma sala, é possível inicialmente observar se a lâmpada está ligada ou desligada. Caso a lâmpada esteja ligada, temos a garantia de que ela corresponde ao interruptor sempre ligado. No caso da lâmpada estar apagada, é possível descobrir o interruptor verificando a sua temperatura. Se a lâmpada estive fria, ela é correspondente ao interruptor sempre desligado; caso contrário, ela é referente ao interruptor que estava ligado inicialmente e foi desligado após um tempo.\n",
    "\n",
    "Após eliminar uma das salas, é necessário descobrir a relação dos interruptores e lâmpadas das duas salas restantes. Para isso, configuram-se os interruptores restantes deixando um ligado e um desligado, de modo que é possível descobrir qual sala das duas restantes é correspondente ao seu interruptor."
   ]
  }
 ],
 "metadata": {
  "kernelspec": {
   "display_name": "Python 3",
   "language": "python",
   "name": "python3"
  },
  "language_info": {
   "name": "python",
   "version": "3.11.8"
  }
 },
 "nbformat": 4,
 "nbformat_minor": 2
}
